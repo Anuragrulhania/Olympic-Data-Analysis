{
 "cells": [
  {
   "cell_type": "code",
   "execution_count": null,
   "id": "942087ee",
   "metadata": {},
   "outputs": [],
   "source": [
    "import  numpy as np\n",
    "import pandas as pd\n"
   ]
  },
  {
   "cell_type": "code",
   "execution_count": null,
   "id": "c86aab89",
   "metadata": {},
   "outputs": [],
   "source": [
    "df=pd.read_csv('C:/Users/acer/OneDrive/Desktop/MLprojects/MLProject(3)/athlete_events.csv')"
   ]
  },
  {
   "cell_type": "code",
   "execution_count": null,
   "id": "4a133fb0",
   "metadata": {},
   "outputs": [],
   "source": [
    "region_df=pd.read_csv('noc_regions.csv')"
   ]
  },
  {
   "cell_type": "code",
   "execution_count": null,
   "id": "8674551f",
   "metadata": {},
   "outputs": [],
   "source": [
    "df.tail(10)"
   ]
  },
  {
   "cell_type": "code",
   "execution_count": null,
   "id": "8722103f",
   "metadata": {},
   "outputs": [],
   "source": [
    "df.shape"
   ]
  },
  {
   "cell_type": "code",
   "execution_count": null,
   "id": "3636b786",
   "metadata": {},
   "outputs": [],
   "source": [
    "df=df[df['Season']=='Summer']"
   ]
  },
  {
   "cell_type": "code",
   "execution_count": null,
   "id": "5e256667",
   "metadata": {},
   "outputs": [],
   "source": [
    "df.shape"
   ]
  },
  {
   "cell_type": "code",
   "execution_count": null,
   "id": "d9783476",
   "metadata": {},
   "outputs": [],
   "source": [
    "df"
   ]
  },
  {
   "cell_type": "code",
   "execution_count": null,
   "id": "fe0e8193",
   "metadata": {},
   "outputs": [],
   "source": [
    "region_df.tail()"
   ]
  },
  {
   "cell_type": "code",
   "execution_count": null,
   "id": "8c0b14f0",
   "metadata": {},
   "outputs": [],
   "source": [
    "# merge on the basis on NOC in the df table to get the region\n",
    "df=df.merge(region_df,on='NOC',how='left')"
   ]
  },
  {
   "cell_type": "code",
   "execution_count": null,
   "id": "a3857501",
   "metadata": {},
   "outputs": [],
   "source": [
    "df.tail()"
   ]
  },
  {
   "cell_type": "code",
   "execution_count": null,
   "id": "8586efb7",
   "metadata": {},
   "outputs": [],
   "source": [
    "df['region'].unique()"
   ]
  },
  {
   "cell_type": "code",
   "execution_count": null,
   "id": "1abcb29d",
   "metadata": {},
   "outputs": [],
   "source": [
    "df['region'].unique()\n"
   ]
  },
  {
   "cell_type": "code",
   "execution_count": null,
   "id": "40582c16",
   "metadata": {},
   "outputs": [],
   "source": [
    "df.isnull().sum()"
   ]
  },
  {
   "cell_type": "code",
   "execution_count": null,
   "id": "91f6e1f4",
   "metadata": {},
   "outputs": [],
   "source": [
    "df.duplicated().sum()"
   ]
  },
  {
   "cell_type": "code",
   "execution_count": null,
   "id": "03ec8627",
   "metadata": {},
   "outputs": [],
   "source": [
    "df.drop_duplicates(inplace=True)"
   ]
  },
  {
   "cell_type": "code",
   "execution_count": null,
   "id": "ff994032",
   "metadata": {},
   "outputs": [],
   "source": [
    "df.duplicated().sum()"
   ]
  },
  {
   "cell_type": "code",
   "execution_count": null,
   "id": "2be1d5f5",
   "metadata": {},
   "outputs": [],
   "source": [
    "df['Medal'].value_counts()"
   ]
  },
  {
   "cell_type": "code",
   "execution_count": null,
   "id": "802684da",
   "metadata": {},
   "outputs": [],
   "source": [
    "m=pd.get_dummies(df['Medal'])\n",
    "df=pd.concat([df,m],axis=1,)"
   ]
  },
  {
   "cell_type": "code",
   "execution_count": null,
   "id": "24d67f03",
   "metadata": {},
   "outputs": [],
   "source": [
    "df.shape"
   ]
  },
  {
   "cell_type": "code",
   "execution_count": null,
   "id": "96a9a7d2",
   "metadata": {
    "scrolled": true
   },
   "outputs": [],
   "source": [
    "df"
   ]
  },
  {
   "cell_type": "code",
   "execution_count": null,
   "id": "a8008469",
   "metadata": {},
   "outputs": [],
   "source": [
    "df.groupby('NOC').sum()[['Gold','Silver','Bronze']].sort_values('Gold',ascending=False).reset_index()"
   ]
  },
  {
   "cell_type": "code",
   "execution_count": null,
   "id": "c69543a0",
   "metadata": {},
   "outputs": [],
   "source": [
    "df[(df['NOC']=='IND') & (df['Medal']=='Gold')]"
   ]
  },
  {
   "cell_type": "code",
   "execution_count": null,
   "id": "70107753",
   "metadata": {},
   "outputs": [],
   "source": [
    "# dropping the duplicates from the columns ['Team','NOC','Games','Year','City','Sport','Event','Medal']\n",
    "medal_tally=df.drop_duplicates(subset=['Team','NOC','Games','Year','City','Sport','Event','Medal'])"
   ]
  },
  {
   "cell_type": "code",
   "execution_count": null,
   "id": "54a98b29",
   "metadata": {},
   "outputs": [],
   "source": [
    "medal_tally"
   ]
  },
  {
   "cell_type": "code",
   "execution_count": null,
   "id": "8531a23f",
   "metadata": {},
   "outputs": [],
   "source": [
    "\n",
    "# medal_tally=medal_tally.groupby('NOC').sum()[['Gold','Silver','Bronze']].sort_values('Gold',ascending=False).reset_index()\n",
    "\n",
    "# medals by region\n",
    "medal_tally=medal_tally.groupby('region').sum()[['Gold','Silver','Bronze']].sort_values('Gold',ascending=False).reset_index()"
   ]
  },
  {
   "cell_type": "code",
   "execution_count": null,
   "id": "7b44b91c",
   "metadata": {},
   "outputs": [],
   "source": [
    "#medal_tally[medal_tally['NOC']=='IND']"
   ]
  },
  {
   "cell_type": "code",
   "execution_count": null,
   "id": "933fb90e",
   "metadata": {},
   "outputs": [],
   "source": [
    "medal_tally"
   ]
  },
  {
   "cell_type": "code",
   "execution_count": null,
   "id": "b7b170eb",
   "metadata": {},
   "outputs": [],
   "source": [
    "# adding a total column at the end \n",
    "medal_tally['Total']=medal_tally['Gold']+medal_tally['Silver']+medal_tally['Bronze']"
   ]
  },
  {
   "cell_type": "code",
   "execution_count": null,
   "id": "1e31608a",
   "metadata": {},
   "outputs": [],
   "source": [
    "medal_tally\n"
   ]
  },
  {
   "cell_type": "code",
   "execution_count": null,
   "id": "4cb663c7",
   "metadata": {},
   "outputs": [],
   "source": [
    "df"
   ]
  },
  {
   "cell_type": "code",
   "execution_count": null,
   "id": "13a9e84c",
   "metadata": {},
   "outputs": [],
   "source": [
    "# fetching the unique values of years and converting into list\n",
    "years =df['Year'].unique().tolist()"
   ]
  },
  {
   "cell_type": "code",
   "execution_count": null,
   "id": "a6a1f955",
   "metadata": {},
   "outputs": [],
   "source": [
    "years.sort()"
   ]
  },
  {
   "cell_type": "code",
   "execution_count": null,
   "id": "e04c22a9",
   "metadata": {},
   "outputs": [],
   "source": [
    "years\n",
    "## insert 'Overall' at index 0\n",
    "years.insert(0,'Overall')"
   ]
  },
  {
   "cell_type": "code",
   "execution_count": null,
   "id": "65dc8fbf",
   "metadata": {},
   "outputs": [],
   "source": [
    "years"
   ]
  },
  {
   "cell_type": "code",
   "execution_count": null,
   "id": "df550d35",
   "metadata": {},
   "outputs": [],
   "source": [
    "# ## Extracting Country\n",
    "# country = df['region'].unique().tolist()\n",
    "# country\n",
    "# --> it contains the numeric values like NaN"
   ]
  },
  {
   "cell_type": "code",
   "execution_count": null,
   "id": "7e711c97",
   "metadata": {},
   "outputs": [],
   "source": [
    "# fetching the unique values of countries and converting into list\n",
    "country=np.unique(df['region'].dropna().values).tolist()"
   ]
  },
  {
   "cell_type": "code",
   "execution_count": null,
   "id": "3a524d86",
   "metadata": {},
   "outputs": [],
   "source": [
    "country.sort()"
   ]
  },
  {
   "cell_type": "code",
   "execution_count": null,
   "id": "82372280",
   "metadata": {},
   "outputs": [],
   "source": [
    "country"
   ]
  },
  {
   "cell_type": "code",
   "execution_count": null,
   "id": "a988474a",
   "metadata": {},
   "outputs": [],
   "source": [
    "## insert 'Overall' at index \n",
    "country.insert(0,'Overall')\n",
    "country"
   ]
  },
  {
   "cell_type": "code",
   "execution_count": null,
   "id": "af3bc9f0",
   "metadata": {},
   "outputs": [],
   "source": [
    "# ## creating a fuction for showing data for a specific year and specific country\n",
    "\n",
    "def fetch_medal_tally(year,country):\n",
    "    medal_df=df.drop_duplicates(subset=['Team','NOC','Games','Year','City','Sport','Event','Medal'])\n",
    "    \n",
    "    flag=0\n",
    "    if year=='Overall' and country =='Overall':\n",
    "        temp_df=medal_df\n",
    "    if year=='Overall' and country !='Overall':\n",
    "        flag=1\n",
    "        temp_df=medal_df[medal_df['region'] == country]\n",
    "    if year!='Overall' and country =='Overall':\n",
    "        temp_df=medal_df[medal_df['Year']==year]\n",
    "    if year!='Overall' and country !='Overall':\n",
    "        temp_df=medal_df[(medal_df['region']==country) &(medal_df['Year']==year)]\n",
    "        \n",
    "        \n",
    "    # this if is not used because if we set a specific country and overall year then it will show the total\n",
    "    # medals not but not year that is why we here group by Year\n",
    "    if flag==1:\n",
    "        # this\n",
    "        x=temp_df.groupby('Year').sum()[['Gold','Silver','Bronze']].sort_values('Year',ascending=True).reset_index()\n",
    "    else:   \n",
    "    # making a dataframe  on the basis of region\n",
    "        x=temp_df.groupby('region').sum()[['Gold','Silver','Bronze']].sort_values('Gold',ascending=False).reset_index()\n",
    "    x['total']=x['Gold']+x['Silver']+x['Bronze']\n",
    "\n",
    "     # convert the datatype of all columns into int\n",
    "    x['Gold'] = x['Gold'].astype('int')\n",
    "    x['Silver'] = x['Silver'].astype('int')\n",
    "    x['Bronze'] = x['Bronze'].astype('int')\n",
    "    x['total'] = x['total'].astype('int')\n",
    "    \n",
    "\n",
    "    return x"
   ]
  },
  {
   "cell_type": "code",
   "execution_count": null,
   "id": "43e3bf92",
   "metadata": {},
   "outputs": [],
   "source": [
    "a=fetch_medal_tally(year='Overall',country='USA')\n",
    "a"
   ]
  },
  {
   "cell_type": "code",
   "execution_count": null,
   "id": "e469d0d4",
   "metadata": {},
   "outputs": [],
   "source": [
    "medal_df=medal_tally=df.drop_duplicates(subset=['Team','NOC','Games','Year','City','Sport','Event','Medal'])\n",
    "#medal_df\n",
    "# for a specific country\n",
    "medal_df[medal_df['region']=='India']\n",
    "\n",
    "# for specific year\n",
    "medal_df[medal_df['Year']==2016]\n",
    "\n",
    "# for a speific country and a specific Year\n",
    "medal_df[(medal_df['region']=='India') &(medal_df['Year']==2016)]"
   ]
  },
  {
   "cell_type": "markdown",
   "id": "35b51bf6",
   "metadata": {},
   "source": [
    "## Overall Analysis\n",
    "\n",
    "  1. No. of Editions\n",
    "  2. No. of cities\n",
    "  3. No. of events/spots\n",
    "  4. no. of Athletes\n",
    "  5. Participating nations\n",
    "  "
   ]
  },
  {
   "cell_type": "code",
   "execution_count": null,
   "id": "18450f32",
   "metadata": {},
   "outputs": [],
   "source": [
    "\n",
    "df['Year'].unique().shape"
   ]
  },
  {
   "cell_type": "code",
   "execution_count": null,
   "id": "91ad6644",
   "metadata": {},
   "outputs": [],
   "source": [
    "# but there are only 28 editions of  olympic\n",
    "# No. of Editions\n",
    "df['Year'].unique().shape[0] -1"
   ]
  },
  {
   "cell_type": "code",
   "execution_count": null,
   "id": "7e8df69b",
   "metadata": {},
   "outputs": [],
   "source": [
    "# No. of cities\n",
    "df['City'].unique().shape[0]"
   ]
  },
  {
   "cell_type": "code",
   "execution_count": null,
   "id": "a1bec1e3",
   "metadata": {},
   "outputs": [],
   "source": [
    "# No.of sports\n",
    "df['Sport'].unique().shape"
   ]
  },
  {
   "cell_type": "code",
   "execution_count": null,
   "id": "f0e0e800",
   "metadata": {},
   "outputs": [],
   "source": [
    "# No. of different Events\n",
    "df['Event'].unique().shape"
   ]
  },
  {
   "cell_type": "code",
   "execution_count": null,
   "id": "562aef6f",
   "metadata": {},
   "outputs": [],
   "source": [
    "# No. of athletes\n",
    "df['Name'].unique().shape"
   ]
  },
  {
   "cell_type": "code",
   "execution_count": null,
   "id": "3017f285",
   "metadata": {},
   "outputs": [],
   "source": [
    "# No.of Participating Nations\n",
    "df['region'].unique().shape"
   ]
  },
  {
   "cell_type": "code",
   "execution_count": null,
   "id": "66aa3536",
   "metadata": {},
   "outputs": [],
   "source": [
    " ## Plot the line plot between nations and and the years\n",
    "    \n",
    "nations_over_time=df.drop_duplicates(['Year','region'])['Year'].value_counts().reset_index().sort_values(by=['index'])\n",
    "nations_over_time.rename(columns={'index':'Edition','Year':'No. of Countries'},inplace=True)\n",
    "nations_over_time"
   ]
  },
  {
   "cell_type": "code",
   "execution_count": null,
   "id": "30b692de",
   "metadata": {},
   "outputs": [],
   "source": [
    "\n",
    "import plotly.express as px\n"
   ]
  },
  {
   "cell_type": "code",
   "execution_count": null,
   "id": "fb24e9b2",
   "metadata": {},
   "outputs": [],
   "source": [
    "fig=px.line(nations_over_time,x='Edition',y='No. of Countries')\n",
    "fig.show()"
   ]
  },
  {
   "cell_type": "code",
   "execution_count": null,
   "id": "bfef3954",
   "metadata": {},
   "outputs": [],
   "source": [
    "# no of events over the year\n",
    "events_over_time=df.drop_duplicates(['Year','Event'])['Year'].value_counts().reset_index().sort_values(by=['index'])\n",
    "events_over_time.rename(columns={'index':'Edition','Year':'No. of Events'},inplace=True)\n",
    "events_over_time"
   ]
  },
  {
   "cell_type": "code",
   "execution_count": null,
   "id": "814d1508",
   "metadata": {},
   "outputs": [],
   "source": [
    "# no of events over the year\n",
    "events_over_time=df.drop_duplicates(['Year','Event'])['Year'].value_counts().reset_index().sort_values(by=['index'])\n",
    "events_over_time.rename(columns={'index':'Edition','Year':'No. of Events'},inplace=True)\n",
    "events_over_time"
   ]
  },
  {
   "cell_type": "code",
   "execution_count": null,
   "id": "acbcf0a7",
   "metadata": {},
   "outputs": [],
   "source": [
    "x=df.drop_duplicates(['Sport','Year','Event'])\n",
    "x"
   ]
  },
  {
   "cell_type": "code",
   "execution_count": null,
   "id": "06207027",
   "metadata": {},
   "outputs": [],
   "source": [
    "x.pivot_table(index='Sport',columns='Year',values='Event',aggfunc='count').fillna(0).astype('int')"
   ]
  },
  {
   "cell_type": "code",
   "execution_count": null,
   "id": "0e53de76",
   "metadata": {},
   "outputs": [],
   "source": [
    "# plotting heatmap for seeing the number of event of a particular sport  in paticular year\n",
    "\n",
    "plt.figure(figsize=(25,25))\n",
    "sns.heatmap(x.pivot_table(index='Sport',columns='Year',values='Event',aggfunc='count').fillna(0).astype('int'),annot=True)"
   ]
  },
  {
   "cell_type": "code",
   "execution_count": null,
   "id": "c8cbde58",
   "metadata": {},
   "outputs": [],
   "source": [
    "### finding the most successfull person as per the number of medals\n",
    "def most_successfull(df,sport):\n",
    "    # As we are finding the most successfull person as per the number of medals so\n",
    "    #we can drop na values from medal\n",
    "\n",
    "    temp_df=df.dropna(subset=[\"Medal\"])\n",
    "                      \n",
    "    if sport !='Overall':\n",
    "        ## if we want to find answer by sportswise else show overall\n",
    "        temp_df=temp_df[temp_df['Sport']==sport]\n",
    "    \n",
    "    x=temp_df['Name'].value_counts().reset_index().head(15).merge(df,left_on='index',right_on='Name',how='left')[['index','Name_x','Sport','region']].drop_duplicates('index')\n",
    "    x.rename(columns={'index':'Name','Name_x':'Medals'},inplace=True)\n",
    "    return x"
   ]
  },
  {
   "cell_type": "code",
   "execution_count": null,
   "id": "24de392e",
   "metadata": {},
   "outputs": [],
   "source": [
    " m=most_successfull(df,'Overall')\n",
    " m"
   ]
  },
  {
   "cell_type": "markdown",
   "id": "6240e021",
   "metadata": {},
   "source": [
    "### Country Wise\n",
    "1. Countrywise Medal Tally per year(line plot)\n",
    "2. what countries are good at heatmap\n",
    "3. most successfull Athletes(top 10)"
   ]
  },
  {
   "cell_type": "code",
   "execution_count": null,
   "id": "ec1c1747",
   "metadata": {},
   "outputs": [],
   "source": [
    "## country Wise medal Tally per year(line plot)\n",
    "## dropna where medals are NaN\n",
    "temp_df=df.dropna(subset=['Medal'])\n",
    "##  we have data such that the medal are not correct as the medals are counted for each team member so we preform drop_duplicated \n",
    "## on some of the aggregated column i.e.\n",
    "temp_df=temp_df.drop_duplicates(subset=['Team','NOC','Games','Year','City','Sport','Event','Medal'])\n",
    "temp_df"
   ]
  },
  {
   "cell_type": "code",
   "execution_count": null,
   "id": "d64c0376",
   "metadata": {},
   "outputs": [],
   "source": [
    "## finding the number of medals of a specific country in a secific year to plot a line plot for showing \n",
    "## number of medals yearwise\n",
    "new_df=temp_df[temp_df['region']=='USA']\n",
    "final_df= new_df.groupby('Year').count()['Medal'].reset_index()\n",
    "final_df"
   ]
  },
  {
   "cell_type": "code",
   "execution_count": null,
   "id": "a90de3fb",
   "metadata": {},
   "outputs": [],
   "source": [
    "fig=px.line(final_df,x='Year',y='Medal')\n",
    "fig.show()"
   ]
  },
  {
   "cell_type": "code",
   "execution_count": null,
   "id": "65043b01",
   "metadata": {},
   "outputs": [],
   "source": [
    "# plotting the heatmap for various years for various sports for a particular countries \n",
    "new1_df=temp_df[temp_df['region']=='India']\n",
    "plt.figure(figsize=(20,20))\n",
    "sns.heatmap(new1_df.pivot_table(index='Sport',columns='Year',values='Medal',aggfunc='count').fillna(0),annot=True)"
   ]
  },
  {
   "cell_type": "code",
   "execution_count": null,
   "id": "db20fd50",
   "metadata": {},
   "outputs": [],
   "source": [
    "### most Successful Athletes by Country\n",
    "def most_successfull_atheletes_country_wise(df,country):\n",
    "    # As we are finding the most successfull person as per the Country so\n",
    "    #we can drop na values from medal\n",
    "\n",
    "    temp_df=df.dropna(subset=[\"Medal\"])\n",
    " \n",
    "    \n",
    "        ## if we want to find answer by countrywise else show overall\n",
    "    temp_df=temp_df[temp_df['region']==country]\n",
    "   \n",
    "    \n",
    "    x=temp_df['Name'].value_counts().reset_index().head(15).merge(df,left_on='index',right_on='Name',how='left')[['index','Name_x','Sport']].drop_duplicates('index')\n",
    "    x.rename(columns={'index':'Name','Name_x':'Medals'},inplace=True)\n",
    "    print(temp_df.shape)\n",
    "    return x"
   ]
  },
  {
   "cell_type": "code",
   "execution_count": null,
   "id": "1a16ece1",
   "metadata": {},
   "outputs": [],
   "source": [
    "most_successfull_atheletes_country_wise(df,'India')"
   ]
  },
  {
   "cell_type": "markdown",
   "id": "8b97ab87",
   "metadata": {},
   "source": [
    "### Athlete wise analysis\n"
   ]
  },
  {
   "cell_type": "code",
   "execution_count": null,
   "id": "e4cc9753",
   "metadata": {},
   "outputs": [],
   "source": [
    "import plotly.figure_factory as ff\n",
    "# remove duplicates from name as players played in more than one olympic Event\n",
    "Athlete_df=df.drop_duplicates(subset=['Name','region'])"
   ]
  },
  {
   "cell_type": "code",
   "execution_count": null,
   "id": "91a1afd1",
   "metadata": {},
   "outputs": [],
   "source": [
    "\n",
    "a1=Athlete_df['Age'].dropna()\n",
    "# age distribution of player who won GOLD,Silver,Bronze\n",
    "a2=Athlete_df[Athlete_df['Medal']=='Gold']['Age'].dropna()\n",
    "a3=Athlete_df[Athlete_df['Medal']=='Silver']['Age'].dropna()\n",
    "a4=Athlete_df[Athlete_df['Medal']=='Bronze']['Age'].dropna()\n",
    "fig=ff.create_distplot([a1,a2,a3,a4],['Age Distribution','Gold Medalist','Silver Medalist','Bronze Medalist'],show_hist=False,show_rug=False)\n",
    "fig.show()"
   ]
  },
  {
   "cell_type": "code",
   "execution_count": null,
   "id": "7b08ae3e",
   "metadata": {},
   "outputs": [],
   "source": []
  },
  {
   "cell_type": "code",
   "execution_count": null,
   "id": "4a490ac4",
   "metadata": {},
   "outputs": [],
   "source": [
    "df['Sport'].unique()"
   ]
  },
  {
   "cell_type": "code",
   "execution_count": null,
   "id": "30088c1e",
   "metadata": {},
   "outputs": [],
   "source": [
    "famous_sport=['Basketball', 'Judo', 'Football', 'Tug-Of-War', 'Athletics',\n",
    "       'Swimming', 'Badminton', 'Sailing', 'Gymnastics',\n",
    "       'Art Competitions', 'Handball', 'Weightlifting', 'Wrestling',\n",
    "       'Water Polo', 'Hockey', 'Rowing', 'Fencing', 'Equestrianism',\n",
    "       'Shooting', 'Boxing', 'Taekwondo', 'Cycling', 'Diving', 'Canoeing',\n",
    "       'Tennis', 'Modern Pentathlon', 'Golf', 'Softball', 'Archery',\n",
    "       'Volleyball', 'Synchronized Swimming', 'Table Tennis', 'Baseball',\n",
    "       'Rhythmic Gymnastics', 'Rugby Sevens', 'Trampolining',\n",
    "       'Beach Volleyball', 'Triathlon', 'Rugby', 'Lacrosse', 'Polo',\n",
    "       'Cricket', 'Ice Hockey']"
   ]
  },
  {
   "cell_type": "code",
   "execution_count": null,
   "id": "a6ddee72",
   "metadata": {},
   "outputs": [],
   "source": [
    "## finding the age distributikon for a specific sport\n",
    "x=[]\n",
    "Name=[]\n",
    "for sport in famous_sport:\n",
    "    temp_df=Athlete_df[Athlete_df['Sport']==sport]\n",
    "    x.append(temp_df[temp_df['Medal']=='Gold']['Age'].dropna())\n",
    "    Name.append(sport)\n",
    "print(Name)\n",
    "print(x)"
   ]
  },
  {
   "cell_type": "code",
   "execution_count": null,
   "id": "ac99f9e3",
   "metadata": {},
   "outputs": [],
   "source": [
    "fig=ff.create_distplot(x,Name,show_hist=False,show_rug=False)\n",
    "fig.show()"
   ]
  },
  {
   "cell_type": "code",
   "execution_count": null,
   "id": "5f1ac81c",
   "metadata": {},
   "outputs": [],
   "source": [
    "import pandas as pd\n",
    "import plotly.figure_factory as ff\n",
    "\n",
    "# Assuming df is your DataFrame containing the necessary data\n",
    "\n",
    "# Filter DataFrame to remove duplicate athletes\n",
    "Athlete_df = df.drop_duplicates(subset=['Name', 'region'])\n",
    "\n",
    "# List of famous sports\n",
    "famous_sport = ['Basketball', 'Judo', 'Football', 'Tug-Of-War', 'Athletics',\n",
    "                'Swimming', 'Badminton', 'Sailing', 'Gymnastics',\n",
    "                'Art Competitions', 'Handball', 'Weightlifting', 'Wrestling',\n",
    "                'Water Polo', 'Hockey', 'Rowing', 'Fencing', 'Equestrianism',\n",
    "                'Shooting', 'Boxing', 'Taekwondo', 'Cycling', 'Diving', 'Canoeing',\n",
    "                'Tennis', 'Modern Pentathlon', 'Golf', 'Softball', 'Archery',\n",
    "                'Volleyball', 'Synchronized Swimming', 'Table Tennis', 'Baseball',\n",
    "                'Rhythmic Gymnastics', 'Rugby Sevens', 'Trampolining',\n",
    "                'Beach Volleyball', 'Triathlon', 'Rugby', 'Lacrosse', 'Polo',\n",
    "                'Cricket', 'Ice Hockey']\n",
    "\n",
    "x = []  # List to store age data\n",
    "Name = []  # List to store sport names\n",
    "\n",
    "# Loop through each sport\n",
    "for sport in famous_sport:\n",
    "    temp_df = Athlete_df[Athlete_df['Sport'] == sport]\n",
    "    age_data = temp_df[temp_df['Medal'] == 'Gold']['Age'].dropna()\n",
    "    if not age_data.empty:  # Ensure age data is not empty before appending\n",
    "        x.append(age_data)\n",
    "        Name.append(sport)\n",
    "\n",
    "# Create the distribution plot\n",
    "fig = ff.create_distplot(x, Name, show_hist=False, show_rug=False)\n",
    "\n",
    "# Display the plot\n",
    "fig.show()\n"
   ]
  },
  {
   "cell_type": "code",
   "execution_count": null,
   "id": "992d694b",
   "metadata": {},
   "outputs": [],
   "source": [
    "## plot the scatter plot for showing the players with medal,no medal,sexwise for a particular sport\n",
    "Athlete_df['Medal'].fillna(\"No Medal\",inplace=True)\n",
    "temp_df=Athlete_df[Athlete_df['Sport']=='Wrestling']\n",
    "plt.figure(figsize=(10,10))\n",
    "\n",
    "# showing the height weight distribution of all players for a specific sport\n",
    "import seaborn as sns\n",
    "\n",
    "# Define the custom color palette with specific colors for each medal\n",
    "custom_palette = {'Gold': 'red', 'Silver': 'orange', 'Bronze': 'green', 'No Medal': 'skyblue'}\n",
    "\n",
    "# Plot the scatter plot with Seaborn, specifying the custom palette\n",
    "sns.scatterplot(data=temp_df, x='Weight', y='Height', hue='Medal', palette=custom_palette,style='Sex',s=80)\n",
    "\n",
    "# Show the plot\n",
    "plt.show()\n"
   ]
  },
  {
   "cell_type": "code",
   "execution_count": null,
   "id": "37776eb3",
   "metadata": {},
   "outputs": [],
   "source": [
    "## finding the number of male and female participants over the year\n",
    "men=Athlete_df[Athlete_df['Sex']=='F'].groupby('Year').count()['Name'].reset_index()\n",
    "women=Athlete_df[Athlete_df['Sex']=='M'].groupby('Year').count()['Name'].reset_index()"
   ]
  },
  {
   "cell_type": "code",
   "execution_count": null,
   "id": "b303f257",
   "metadata": {},
   "outputs": [],
   "source": [
    "\n"
   ]
  },
  {
   "cell_type": "code",
   "execution_count": null,
   "id": "7c87c4cc",
   "metadata": {},
   "outputs": [],
   "source": [
    "final=men.merge(women,on='Year',how='left')\n",
    "final.rename(columns={'Name_x':'Male','Name_y':'Female'},inplace=True)"
   ]
  },
  {
   "cell_type": "code",
   "execution_count": null,
   "id": "9bee1b25",
   "metadata": {},
   "outputs": [],
   "source": [
    "final.fillna(0,inplace=True)"
   ]
  },
  {
   "cell_type": "code",
   "execution_count": null,
   "id": "74a3798d",
   "metadata": {},
   "outputs": [],
   "source": [
    "final"
   ]
  },
  {
   "cell_type": "code",
   "execution_count": null,
   "id": "fcf3bca0",
   "metadata": {},
   "outputs": [],
   "source": [
    "fig=px.line(final,x='Year',y=['Male','Female'])"
   ]
  },
  {
   "cell_type": "code",
   "execution_count": null,
   "id": "a8e56f0e",
   "metadata": {},
   "outputs": [],
   "source": [
    "fig.show()"
   ]
  },
  {
   "cell_type": "code",
   "execution_count": null,
   "id": "275ab6e3",
   "metadata": {},
   "outputs": [],
   "source": []
  }
 ],
 "metadata": {
  "kernelspec": {
   "display_name": "Python 3 (ipykernel)",
   "language": "python",
   "name": "python3"
  },
  "language_info": {
   "codemirror_mode": {
    "name": "ipython",
    "version": 3
   },
   "file_extension": ".py",
   "mimetype": "text/x-python",
   "name": "python",
   "nbconvert_exporter": "python",
   "pygments_lexer": "ipython3",
   "version": "3.11.7"
  }
 },
 "nbformat": 4,
 "nbformat_minor": 5
}
